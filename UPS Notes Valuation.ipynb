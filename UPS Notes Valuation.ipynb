{
 "cells": [
  {
   "cell_type": "code",
   "execution_count": 236,
   "metadata": {},
   "outputs": [],
   "source": [
    "import matplotlib.pyplot as plt\n",
    "import math\n",
    "import numpy as np"
   ]
  },
  {
   "cell_type": "code",
   "execution_count": 331,
   "metadata": {},
   "outputs": [],
   "source": [
    "def Crank_Nicolson_Pricer(S0=91.9, T=457/365, r=0.0065246, dividend=0.047901, vol=0.55591, coupon=32.5,i_max = 457,j_max = 300):\n",
    "\n",
    "    SU = 3 * S0  # Maximum price on the mesh\n",
    "    SL = 0       # Minimum price on the mesh\n",
    "    \n",
    "    interest_barrier = 0.7 * S0  # The interest_barrier price that triggers the coupon\n",
    "    \n",
    "    dt = T/i_max  # Single movement on T-axis\n",
    "    ds = (SU-SL)/j_max  # Single movement on S-axis\n",
    "    \n",
    "    S = np.arange(SL, SU+0.0001, SU/j_max)\n",
    "    \n",
    "    # trigger\n",
    "    mesh_trigger = np.zeros((j_max+1, i_max+1))\n",
    "    \n",
    "    for j in range(0, j_max+1):  # Value at T\n",
    "        if S[j] >= S0:\n",
    "            mesh_trigger[j, i_max] = (1000+coupon)*math.exp(-r*5/365)\n",
    "        elif S[j] >= interest_barrier:\n",
    "            mesh_trigger[j, i_max] = (\n",
    "                1000*S[j]/S0+coupon)*math.exp(-r*5/365)\n",
    "        else:\n",
    "            mesh_trigger[j, i_max] = (1000*S[j]/S0)*math.exp(-r*(5/365))\n",
    "    \n",
    "    j = np.arange(0, j_max+0.1, 1)  # 0 - jmax 共jmax+1个值\n",
    "    \n",
    "    a = [0.25*(vol**2*a**2-(r-dividend)*a) for a in j]\n",
    "    a[0] = 0\n",
    "    a[j_max] = 0\n",
    "    \n",
    "    b = [-vol**2*b**2/2-r/2-1/dt for b in j]\n",
    "    b[0] = 1\n",
    "    b[j_max] = 1\n",
    "    \n",
    "    c = [0.25*(vol**2*c**2+(r-dividend)*c) for c in j]\n",
    "    c[0] = 0\n",
    "    c[j_max] = 0\n",
    "    \n",
    "    alpha = [b[0]]*(j_max+1)\n",
    "    for h in range(1, j_max+1):\n",
    "        alpha[h] = b[h]-(a[h]*c[h-1])/alpha[h-1]\n",
    "    \n",
    "    for i in range(i_max-1, -1, -1): # t\n",
    "\n",
    "        d = [0]*(j_max+1) # right side\n",
    "        for m in range(1, j_max):\n",
    "            d[m] = -a[m]*mesh_trigger[m-1, i+1] - (-vol**2*m**2/2-r/2+1/dt) * mesh_trigger[m, i+1]-c[m]*mesh_trigger[m+1, i+1]\n",
    "        \n",
    "        # up boundary \n",
    "        if i <= 95*int(i_max/457):\n",
    "            mesh_trigger[j_max,i] = (1000+coupon)*math.exp(-r*(189*int(i_max/457)-i)/(365*int(i_max/457)))+coupon*math.exp(-r*(95*int(i_max/457)-i)/(365*int(i_max/457)))\n",
    "        elif i <= 189*int(i_max/457):\n",
    "            mesh_trigger[j_max,i] = (1000+coupon)*math.exp(-r*(189*int(i_max/457)-i)/(365*int(i_max/457)))\n",
    "        elif i <= 281*int(i_max/457):\n",
    "            mesh_trigger[j_max,i] = (1000+coupon)*math.exp(-r*(281*int(i_max/457)-i)/(365*int(i_max/457)))\n",
    "        elif i <= 368*int(i_max/457):\n",
    "            mesh_trigger[j_max,i] = (1000+coupon)*math.exp(-r*(368*int(i_max/457)-i)/(365*int(i_max/457)))\n",
    "        else:\n",
    "            mesh_trigger[j_max,i] = (1000+coupon)*math.exp(-r*(462*int(i_max/457)-i)/(365*int(i_max/457)))\n",
    "        \n",
    "        # low boundary\n",
    "        mesh_trigger[0,i] = 0\n",
    "        \n",
    "        # LU Decomposition\n",
    "        q = [mesh_trigger[0,i]]*(j_max+1)\n",
    "        for u in range(1, j_max+1):\n",
    "            q[u] = d[u]-q[u-1]*a[u]/alpha[u-1]\n",
    "\n",
    "        mesh_trigger[j_max, i] = q[j_max]/alpha[j_max]\n",
    "        for j in range(j_max-1, -1, -1):\n",
    "            mesh_trigger[j, i] = (q[j]-c[j] * mesh_trigger[j+1, i])/alpha[j]\n",
    "            \n",
    "        if (i == 92*int(i_max/457)): # coupon date\n",
    "            for j in range(0, j_max+1):\n",
    "                if S[j] >= interest_barrier:\n",
    "                    mesh_trigger[j, i] = mesh_trigger[j, i] + coupon*math.exp(-r*3/365)\n",
    "                else:\n",
    "                    continue\n",
    "        \n",
    "        if (i == 184*int(i_max/457)):\n",
    "            for j in range(int(j_max/3*0.7), j_max+1):\n",
    "                if S[j] >= S0:\n",
    "                    mesh_trigger[j, i] = (1000+coupon)*math.exp(-r*5/365)\n",
    "                elif S[j] >= interest_barrier:\n",
    "                    mesh_trigger[j, i] = mesh_trigger[j, i]+coupon*math.exp(-r*5/365)\n",
    "                else:\n",
    "                    continue\n",
    "\n",
    "        if (i == 275*int(i_max/457)):\n",
    "            for j in range(int(j_max/3*0.7), j_max+1):\n",
    "                if S[j] >= S0:\n",
    "                    mesh_trigger[j, i] = (1000+coupon)*math.exp(-r*6/365)\n",
    "                elif S[j] >= interest_barrier:\n",
    "                    mesh_trigger[j, i] = mesh_trigger[j, i]+coupon*math.exp(-r*6/365)\n",
    "                else:\n",
    "                    continue\n",
    "                    \n",
    "        if (i == 365*int(i_max/457)):\n",
    "            for j in range(int(j_max/3*0.7), j_max+1):\n",
    "                if S[j] >= S0:\n",
    "                    mesh_trigger[j, i] = (1000+coupon)*math.exp(-r*3/365)\n",
    "                elif S[j] >= interest_barrier:\n",
    "                    mesh_trigger[j, i] = mesh_trigger[j, i]+coupon*math.exp(-r*3/365)\n",
    "                else:\n",
    "                    continue\n",
    "\n",
    "        else:\n",
    "            continue\n",
    "    \n",
    "    # without trigger\n",
    "    mesh_not_trigger = np.zeros((j_max+1, i_max+1)) \n",
    "    for j in range(int(j_max/3*0.7), j_max+1):  # Value at T\n",
    "        mesh_not_trigger[j, i_max] = (1000+coupon)*math.exp(-r*5/365)\n",
    "    for j in range(0, int(j_max/3*0.7)):\n",
    "        mesh_not_trigger[j, i_max] = mesh_trigger[j, i_max]\n",
    "\n",
    "    j = np.arange(0, j_max+0.1, 1)  # 0 - jmax 共jmax+1个值\n",
    "    \n",
    "    a = [0.25*(vol**2*a**2-(r-dividend)*a) for a in j]\n",
    "    a[int(j_max/3*0.7)] = 0\n",
    "    a[j_max] = 0\n",
    "    \n",
    "    b = [-vol**2*b**2/2-r/2-1/dt for b in j]\n",
    "    b[int(j_max/3*0.7)] = 1\n",
    "    b[j_max] = 1\n",
    "    \n",
    "    c = [0.25*(vol**2*c**2+(r-dividend)*c) for c in j]\n",
    "    c[int(j_max/3*0.7)] = 0\n",
    "    c[j_max] = 0\n",
    "    \n",
    "    alpha = [b[int(j_max/3*0.7)]]*(j_max+1)\n",
    "    for h in range(int(j_max/3*0.7)+1, j_max+1):\n",
    "        alpha[h] = b[h]-(a[h]*c[h-1])/alpha[h-1]        \n",
    "\n",
    "    for i in range(i_max-1, -1, -1): # t\n",
    "            \n",
    "        d = [0]*(j_max+1) # right side\n",
    "        for m in range(int(j_max/3*0.7), j_max):\n",
    "            d[m] = -a[m]*mesh_not_trigger[m-1, i+1] - (-vol**2*m**2/2-r/2+1/dt) * mesh_not_trigger[m, i+1]-c[m]*mesh_not_trigger[m+1, i+1]\n",
    "        \n",
    "        # up boundary \n",
    "        if i <= 95*int(i_max/457):\n",
    "            mesh_not_trigger[j_max,i] = (1000+coupon)*math.exp(-r*(189*int(i_max/457)-i)/(365*int(i_max/457)))+coupon*math.exp(-r*(95*int(i_max/457)-i)/(365*int(i_max/457)))\n",
    "        elif i <= 189*int(i_max/457):\n",
    "            mesh_not_trigger[j_max,i] = (1000+coupon)*math.exp(-r*(189*int(i_max/457)-i)/(365*int(i_max/457)))\n",
    "        elif i <= 281*int(i_max/457):\n",
    "            mesh_not_trigger[j_max,i] = (1000+coupon)*math.exp(-r*(281*int(i_max/457)-i)/(365*int(i_max/457)))\n",
    "        elif i <= 368*int(i_max/457):\n",
    "            mesh_not_trigger[j_max,i] = (1000+coupon)*math.exp(-r*(368*int(i_max/457)-i)/(365*int(i_max/457)))\n",
    "        else:\n",
    "            mesh_not_trigger[j_max,i] = (1000+coupon)*math.exp(-r*(462*int(i_max/457)-i)/(365*int(i_max/457)))\n",
    "        \n",
    "        # low boundary\n",
    "        mesh_not_trigger[int(j_max/3*0.7),i] = mesh_trigger[int(j_max/3*0.7), i]\n",
    "            \n",
    "        # LU Decomposition\n",
    "        q = [mesh_not_trigger[int(j_max/3*0.7),i]]*(j_max+1)\n",
    "        for u in range(int(j_max/3*0.7)+1, j_max+1):\n",
    "            q[u] = d[u]-q[u-1]*a[u]/alpha[u-1]    \n",
    "            \n",
    "        mesh_not_trigger[j_max, i] = q[j_max]/alpha[j_max]\n",
    "        for j in range(j_max-1, int(j_max/3*0.7)-1, -1):\n",
    "            mesh_not_trigger[j, i] = (q[j]-c[j]*mesh_not_trigger[j+1, i])/alpha[j]\n",
    "\n",
    "        if (i == 92*int(i_max/457)): # coupon date\n",
    "            for j in range(int(j_max/3*0.7), j_max+1):\n",
    "                if S[j] >= interest_barrier:\n",
    "                    mesh_not_trigger[j, i] = mesh_not_trigger[j, i]+coupon*math.exp(-r*3/365)\n",
    "                else:\n",
    "                    continue\n",
    "                        \n",
    "        if (i == 184*int(i_max/457)):\n",
    "            for j in range(int(j_max/3*0.7), j_max+1):\n",
    "                if S[j] >= S0:\n",
    "                    mesh_not_trigger[j, i] = (1000+coupon)*math.exp(-r*5/365)\n",
    "                elif S[j] >= interest_barrier:\n",
    "                    mesh_not_trigger[j, i] = mesh_not_trigger[j, i]+coupon*math.exp(-r*5/365)\n",
    "                else:\n",
    "                    continue\n",
    "\n",
    "        if (i == 275*int(i_max/457)):\n",
    "            for j in range(int(j_max/3*0.7), j_max+1):\n",
    "                if S[j] >= S0:\n",
    "                    mesh_not_trigger[j, i] = (1000+coupon)*math.exp(-r*6/365)\n",
    "                elif S[j] >= interest_barrier:\n",
    "                    mesh_not_trigger[j, i] = mesh_not_trigger[j, i]+coupon*math.exp(-r*6/365)\n",
    "                else:\n",
    "                    continue\n",
    "                    \n",
    "        if (i == 365*int(i_max/457)):\n",
    "            for j in range(int(j_max/3*0.7), j_max+1):\n",
    "                if S[j] >= S0:\n",
    "                    mesh_not_trigger[j, i] = (1000+coupon)*math.exp(-r*3/365)\n",
    "                elif S[j] >= interest_barrier:\n",
    "                    mesh_not_trigger[j, i] = mesh_not_trigger[j, i]+coupon*math.exp(-r*3/365)\n",
    "                else:\n",
    "                    continue\n",
    "                    \n",
    "        else:\n",
    "            continue\n",
    "    return(mesh_not_trigger[int(j_max/3),0])  "
   ]
  },
  {
   "cell_type": "code",
   "execution_count": 332,
   "metadata": {},
   "outputs": [
    {
     "data": {
      "text/plain": [
       "859.9359934075096"
      ]
     },
     "execution_count": 332,
     "metadata": {},
     "output_type": "execute_result"
    }
   ],
   "source": [
    "value=Crank_Nicolson_Pricer()\n",
    "value"
   ]
  },
  {
   "cell_type": "code",
   "execution_count": 333,
   "metadata": {},
   "outputs": [
    {
     "name": "stdout",
     "output_type": "stream",
     "text": [
      "[905.2895389236793, 900.920291461191, 896.5755989314956, 892.2491027219, 887.9347700338178, 883.6268989948496, 879.3201246786524, 875.0094250857505, 870.6901262860619, 866.3579060964565, 862.0087958456252]\n"
     ]
    }
   ],
   "source": [
    "value=[]\n",
    "for i in np.arange(0.45116,0.55591,0.01000):\n",
    "    value.append(Crank_Nicolson_Pricer(vol=i))\n",
    "print(value)"
   ]
  },
  {
   "cell_type": "code",
   "execution_count": 334,
   "metadata": {},
   "outputs": [
    {
     "data": {
      "text/plain": [
       "array([0.45116, 0.46116, 0.47116, 0.48116, 0.49116, 0.50116, 0.51116,\n",
       "       0.52116, 0.53116, 0.54116, 0.55116])"
      ]
     },
     "execution_count": 334,
     "metadata": {},
     "output_type": "execute_result"
    }
   ],
   "source": [
    "np.arange(0.45116,0.55591,0.01000)\n"
   ]
  },
  {
   "cell_type": "code",
   "execution_count": 335,
   "metadata": {},
   "outputs": [
    {
     "data": {
      "text/plain": [
       "[<matplotlib.lines.Line2D at 0x168b12eaef0>]"
      ]
     },
     "execution_count": 335,
     "metadata": {},
     "output_type": "execute_result"
    },
    {
     "data": {
      "image/png": "[encoded data removed]",
      "text/plain": [
       "<Figure size 432x288 with 1 Axes>"
      ]
     },
     "metadata": {
      "needs_background": "light"
     },
     "output_type": "display_data"
    }
   ],
   "source": [
    "plt.plot(np.arange(0.45116,0.55591,0.01000),value,linestyle='-',marker='o')"
   ]
  },
  {
   "cell_type": "code",
   "execution_count": 336,
   "metadata": {},
   "outputs": [],
   "source": [
    "value2=[]\n",
    "for j in np.arange(300,3001,300):\n",
    "    value2.append(Crank_Nicolson_Pricer(j_max = j))"
   ]
  },
  {
   "cell_type": "code",
   "execution_count": 340,
   "metadata": {
    "scrolled": true
   },
   "outputs": [
    {
     "name": "stdout",
     "output_type": "stream",
     "text": [
      "[859.9359934075096, 859.1625479855596, 859.0063986256266, 859.7669783783052, 861.61962592848, 863.9818217019579, 866.2350181549999, 868.5860315917766, 870.5595709215969, 872.2985781829526]\n"
     ]
    }
   ],
   "source": [
    "print(value2)"
   ]
  },
  {
   "cell_type": "code",
   "execution_count": 341,
   "metadata": {},
   "outputs": [
    {
     "data": {
      "text/plain": [
       "[<matplotlib.lines.Line2D at 0x168b13900b8>]"
      ]
     },
     "execution_count": 341,
     "metadata": {},
     "output_type": "execute_result"
    },
    {
     "data": {
      "image/png": "[encoded data removed]",
      "text/plain": [
       "<Figure size 432x288 with 1 Axes>"
      ]
     },
     "metadata": {
      "needs_background": "light"
     },
     "output_type": "display_data"
    }
   ],
   "source": [
    "plt.plot(np.arange(300,3001,300),value2,linestyle='-',marker='o')"
   ]
  },
  {
   "cell_type": "code",
   "execution_count": 339,
   "metadata": {},
   "outputs": [],
   "source": [
    "value3=[]\n",
    "for i in np.arange(457,4571,457):\n",
    "    value3.append(Crank_Nicolson_Pricer(i_max = i))"
   ]
  },
  {
   "cell_type": "code",
   "execution_count": 342,
   "metadata": {},
   "outputs": [
    {
     "name": "stdout",
     "output_type": "stream",
     "text": [
      "[859.9359934075096, 859.8345824145885, 859.8007425736462, 859.7838158349932, 859.7736576054682, 859.7668845404291, 859.7620461898157, 859.7584171822078, 859.7555944757705, 859.7533362192243]\n"
     ]
    }
   ],
   "source": [
    "print(value3)"
   ]
  },
  {
   "cell_type": "code",
   "execution_count": 343,
   "metadata": {},
   "outputs": [
    {
     "data": {
      "text/plain": [
       "[<matplotlib.lines.Line2D at 0x168b14149b0>]"
      ]
     },
     "execution_count": 343,
     "metadata": {},
     "output_type": "execute_result"
    },
    {
     "data": {
      "image/png": "[encoded data removed]",
      "text/plain": [
       "<Figure size 432x288 with 1 Axes>"
      ]
     },
     "metadata": {
      "needs_background": "light"
     },
     "output_type": "display_data"
    }
   ],
   "source": [
    "plt.plot(np.arange(457,4571,457),value3,linestyle='-',marker='o')"
   ]
  },
  {
   "cell_type": "code",
   "execution_count": null,
   "metadata": {},
   "outputs": [],
   "source": []
  }
 ],
 "metadata": {
  "kernelspec": {
   "display_name": "Python 3",
   "language": "python",
   "name": "python3"
  },
  "language_info": {
   "codemirror_mode": {
    "name": "ipython",
    "version": 3
   },
   "file_extension": ".py",
   "mimetype": "text/x-python",
   "name": "python",
   "nbconvert_exporter": "python",
   "pygments_lexer": "ipython3",
   "version": "3.7.3"
  }
 },
 "nbformat": 4,
 "nbformat_minor": 2
}
